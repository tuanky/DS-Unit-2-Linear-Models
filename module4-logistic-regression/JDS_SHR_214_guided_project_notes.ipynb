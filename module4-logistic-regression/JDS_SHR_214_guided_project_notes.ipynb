{
 "nbformat": 4,
 "nbformat_minor": 0,
 "metadata": {
  "colab": {
   "provenance": []
  },
  "kernelspec": {
   "name": "python3",
   "language": "python",
   "display_name": "Python 3 (ipykernel)"
  }
 },
 "cells": [
  {
   "cell_type": "markdown",
   "metadata": {
    "id": "RUhphDysw-6P"
   },
   "source": [
    "## BloomTech Data Science\n",
    "\n",
    "---\n"
   ]
  },
  {
   "cell_type": "markdown",
   "metadata": {
    "id": "c9XvBGFMguJ1"
   },
   "source": [
    "# Logistic Regression\n",
    "- scikit-learn pipelines\n",
    "- train/validaiton/test split\n",
    "- Baseline for classificaiton\n",
    "- Logistic Regression\n",
    "\n",
    "\n"
   ]
  },
  {
   "cell_type": "code",
   "execution_count": null,
   "outputs": [],
   "source": [
    "!pip install category_encoder"
   ],
   "metadata": {
    "collapsed": false
   }
  },
  {
   "cell_type": "code",
   "execution_count": 1,
   "outputs": [],
   "source": [
    "# Libraries for today's project\n",
    "from category_encoders import OneHotEncoder\n",
    "from sklearn.impute import SimpleImputer\n",
    "from sklearn.linear_model import LogisticRegression\n",
    "from sklearn.model_selection import train_test_split\n",
    "from sklearn.pipeline import make_pipeline\n",
    "from sklearn.preprocessing import StandardScaler\n",
    "import matplotlib.pyplot as plt\n",
    "import pandas as pd"
   ],
   "metadata": {
    "collapsed": false,
    "ExecuteTime": {
     "end_time": "2023-07-05T15:23:07.880143Z",
     "start_time": "2023-07-05T15:23:05.648670Z"
    }
   }
  },
  {
   "cell_type": "markdown",
   "metadata": {
    "id": "2Cz8n4xnWmok"
   },
   "source": [
    "# I. Wrangle Data"
   ]
  },
  {
   "cell_type": "code",
   "metadata": {
    "id": "BMkDazfUzP_v",
    "ExecuteTime": {
     "end_time": "2023-07-05T15:23:14.088491Z",
     "start_time": "2023-07-05T15:23:12.809981Z"
    }
   },
   "source": [
    "def wrangle(filepath):\n",
    "  df = pd.read_csv(filepath, index_col='PassengerId')\n",
    "  df.drop(columns=['Name', 'Ticket', 'Cabin'], inplace=True)\n",
    "  df['Pclass'] = df['Pclass'].astype('object')\n",
    "  return df\n",
    "\n",
    "\n",
    "DATA = \"https://raw.githubusercontent.com/bloominstituteoftechnology/DS-Unit-2-Linear-Models/master/data/titanic\"\n",
    "df = wrangle(f\"{DATA}/train.csv\")\n",
    "X_test = wrangle(f\"{DATA}/test.csv\")"
   ],
   "execution_count": 3,
   "outputs": []
  },
  {
   "cell_type": "code",
   "source": [
    "df.head()"
   ],
   "metadata": {
    "colab": {
     "base_uri": "https://localhost:8080/",
     "height": 237
    },
    "id": "E1a_etyIDn4-",
    "outputId": "555fb8ba-73e0-4b81-b3ed-09db383287b0",
    "ExecuteTime": {
     "end_time": "2023-07-05T15:23:14.104863Z",
     "start_time": "2023-07-05T15:23:14.092788Z"
    }
   },
   "execution_count": 4,
   "outputs": [
    {
     "data": {
      "text/plain": "             Survived Pclass     Sex   Age  SibSp  Parch     Fare Embarked\nPassengerId                                                               \n1                   0      3    male  22.0      1      0   7.2500        S\n2                   1      1  female  38.0      1      0  71.2833        C\n3                   1      3  female  26.0      0      0   7.9250        S\n4                   1      1  female  35.0      1      0  53.1000        S\n5                   0      3    male  35.0      0      0   8.0500        S",
      "text/html": "<div>\n<style scoped>\n    .dataframe tbody tr th:only-of-type {\n        vertical-align: middle;\n    }\n\n    .dataframe tbody tr th {\n        vertical-align: top;\n    }\n\n    .dataframe thead th {\n        text-align: right;\n    }\n</style>\n<table border=\"1\" class=\"dataframe\">\n  <thead>\n    <tr style=\"text-align: right;\">\n      <th></th>\n      <th>Survived</th>\n      <th>Pclass</th>\n      <th>Sex</th>\n      <th>Age</th>\n      <th>SibSp</th>\n      <th>Parch</th>\n      <th>Fare</th>\n      <th>Embarked</th>\n    </tr>\n    <tr>\n      <th>PassengerId</th>\n      <th></th>\n      <th></th>\n      <th></th>\n      <th></th>\n      <th></th>\n      <th></th>\n      <th></th>\n      <th></th>\n    </tr>\n  </thead>\n  <tbody>\n    <tr>\n      <th>1</th>\n      <td>0</td>\n      <td>3</td>\n      <td>male</td>\n      <td>22.0</td>\n      <td>1</td>\n      <td>0</td>\n      <td>7.2500</td>\n      <td>S</td>\n    </tr>\n    <tr>\n      <th>2</th>\n      <td>1</td>\n      <td>1</td>\n      <td>female</td>\n      <td>38.0</td>\n      <td>1</td>\n      <td>0</td>\n      <td>71.2833</td>\n      <td>C</td>\n    </tr>\n    <tr>\n      <th>3</th>\n      <td>1</td>\n      <td>3</td>\n      <td>female</td>\n      <td>26.0</td>\n      <td>0</td>\n      <td>0</td>\n      <td>7.9250</td>\n      <td>S</td>\n    </tr>\n    <tr>\n      <th>4</th>\n      <td>1</td>\n      <td>1</td>\n      <td>female</td>\n      <td>35.0</td>\n      <td>1</td>\n      <td>0</td>\n      <td>53.1000</td>\n      <td>S</td>\n    </tr>\n    <tr>\n      <th>5</th>\n      <td>0</td>\n      <td>3</td>\n      <td>male</td>\n      <td>35.0</td>\n      <td>0</td>\n      <td>0</td>\n      <td>8.0500</td>\n      <td>S</td>\n    </tr>\n  </tbody>\n</table>\n</div>"
     },
     "execution_count": 4,
     "metadata": {},
     "output_type": "execute_result"
    }
   ]
  },
  {
   "cell_type": "code",
   "source": [
    "X_test.head()"
   ],
   "metadata": {
    "colab": {
     "base_uri": "https://localhost:8080/",
     "height": 237
    },
    "id": "b0wInRQYDtpI",
    "outputId": "c4d1f109-8e4e-4641-806b-08c33e7e47ff",
    "ExecuteTime": {
     "end_time": "2023-07-05T15:23:31.046638Z",
     "start_time": "2023-07-05T15:23:31.029102Z"
    }
   },
   "execution_count": 5,
   "outputs": [
    {
     "data": {
      "text/plain": "            Pclass     Sex   Age  SibSp  Parch     Fare Embarked\nPassengerId                                                     \n892              3    male  34.5      0      0   7.8292        Q\n893              3  female  47.0      1      0   7.0000        S\n894              2    male  62.0      0      0   9.6875        Q\n895              3    male  27.0      0      0   8.6625        S\n896              3  female  22.0      1      1  12.2875        S",
      "text/html": "<div>\n<style scoped>\n    .dataframe tbody tr th:only-of-type {\n        vertical-align: middle;\n    }\n\n    .dataframe tbody tr th {\n        vertical-align: top;\n    }\n\n    .dataframe thead th {\n        text-align: right;\n    }\n</style>\n<table border=\"1\" class=\"dataframe\">\n  <thead>\n    <tr style=\"text-align: right;\">\n      <th></th>\n      <th>Pclass</th>\n      <th>Sex</th>\n      <th>Age</th>\n      <th>SibSp</th>\n      <th>Parch</th>\n      <th>Fare</th>\n      <th>Embarked</th>\n    </tr>\n    <tr>\n      <th>PassengerId</th>\n      <th></th>\n      <th></th>\n      <th></th>\n      <th></th>\n      <th></th>\n      <th></th>\n      <th></th>\n    </tr>\n  </thead>\n  <tbody>\n    <tr>\n      <th>892</th>\n      <td>3</td>\n      <td>male</td>\n      <td>34.5</td>\n      <td>0</td>\n      <td>0</td>\n      <td>7.8292</td>\n      <td>Q</td>\n    </tr>\n    <tr>\n      <th>893</th>\n      <td>3</td>\n      <td>female</td>\n      <td>47.0</td>\n      <td>1</td>\n      <td>0</td>\n      <td>7.0000</td>\n      <td>S</td>\n    </tr>\n    <tr>\n      <th>894</th>\n      <td>2</td>\n      <td>male</td>\n      <td>62.0</td>\n      <td>0</td>\n      <td>0</td>\n      <td>9.6875</td>\n      <td>Q</td>\n    </tr>\n    <tr>\n      <th>895</th>\n      <td>3</td>\n      <td>male</td>\n      <td>27.0</td>\n      <td>0</td>\n      <td>0</td>\n      <td>8.6625</td>\n      <td>S</td>\n    </tr>\n    <tr>\n      <th>896</th>\n      <td>3</td>\n      <td>female</td>\n      <td>22.0</td>\n      <td>1</td>\n      <td>1</td>\n      <td>12.2875</td>\n      <td>S</td>\n    </tr>\n  </tbody>\n</table>\n</div>"
     },
     "execution_count": 5,
     "metadata": {},
     "output_type": "execute_result"
    }
   ]
  },
  {
   "cell_type": "code",
   "metadata": {
    "id": "qK87X1PFcDJ6",
    "colab": {
     "base_uri": "https://localhost:8080/"
    },
    "outputId": "f768d69f-9b0b-48fb-e55b-23486213a347",
    "ExecuteTime": {
     "end_time": "2023-07-05T15:23:49.946753Z",
     "start_time": "2023-07-05T15:23:49.924982Z"
    }
   },
   "source": [
    "df.shape, X_test.shape"
   ],
   "execution_count": 6,
   "outputs": [
    {
     "data": {
      "text/plain": "((891, 8), (418, 7))"
     },
     "execution_count": 6,
     "metadata": {},
     "output_type": "execute_result"
    }
   ]
  },
  {
   "cell_type": "code",
   "metadata": {
    "id": "bLz2vii_cDGi"
   },
   "source": [],
   "execution_count": null,
   "outputs": []
  },
  {
   "cell_type": "code",
   "metadata": {
    "id": "n7tP5V8zcDBR"
   },
   "source": [],
   "execution_count": null,
   "outputs": []
  },
  {
   "cell_type": "markdown",
   "metadata": {
    "id": "Vy-2aFoDXrar"
   },
   "source": [
    "## II. Split Data"
   ]
  },
  {
   "cell_type": "code",
   "metadata": {
    "id": "ARITmeldXfvP"
   },
   "source": [
    "# Split Target Vector from our Feature Matrix\n"
   ],
   "execution_count": null,
   "outputs": []
  },
  {
   "cell_type": "code",
   "metadata": {
    "id": "JbtV3_BuX2oL"
   },
   "source": [
    "# Split our data into a TRAINING set and a VALIDATION set (randomized)\n"
   ],
   "execution_count": null,
   "outputs": []
  },
  {
   "cell_type": "markdown",
   "metadata": {
    "id": "BQ0X5kSGZtge"
   },
   "source": [
    "## III. Establish our baseline\n",
    "\n"
   ]
  },
  {
   "cell_type": "code",
   "source": [],
   "metadata": {
    "id": "QDDTCQZQnP07"
   },
   "execution_count": null,
   "outputs": []
  },
  {
   "cell_type": "code",
   "metadata": {
    "id": "MA4wM3F32s9O"
   },
   "source": [
    "print('Baseline Accuracy Score:',)"
   ],
   "execution_count": null,
   "outputs": []
  },
  {
   "cell_type": "markdown",
   "metadata": {
    "id": "rhN5A57katzk"
   },
   "source": [
    "## IV. Build Model\n",
    "\n",
    "- Why would regular linear regression not work here?"
   ]
  },
  {
   "cell_type": "code",
   "metadata": {
    "id": "PVvpbpAjMQN8"
   },
   "source": [
    "plt.scatter(X_train['Age'], y_train)\n",
    "plt.xlabel('Age')\n",
    "plt.ylabel('Survived')\n",
    "\n",
    "plt.show()"
   ],
   "execution_count": null,
   "outputs": []
  },
  {
   "cell_type": "markdown",
   "source": [
    "\\begin{align}\n",
    "p  (y=1) = \\frac{1}{1+e^{-(b_0+b_1x)}}\n",
    "\\end{align}\n"
   ],
   "metadata": {
    "id": "UnSFx5IcfRvI"
   }
  },
  {
   "cell_type": "markdown",
   "metadata": {
    "id": "vEbK3zKW80aN"
   },
   "source": [
    "What we need for our model pipeline:\n",
    "\n",
    "- `OneHotEncoder`\n",
    "- `SimpleImputer`\n",
    "- `LogisticRegression`"
   ]
  },
  {
   "cell_type": "code",
   "source": [],
   "metadata": {
    "id": "vzUcShsinSOq"
   },
   "execution_count": null,
   "outputs": []
  },
  {
   "cell_type": "markdown",
   "metadata": {
    "id": "ewFaW1p_etFX"
   },
   "source": [
    "## V. Check Metrics"
   ]
  },
  {
   "cell_type": "code",
   "metadata": {
    "id": "EhxohqPsesdf"
   },
   "source": [
    "# default metric will be accuracy for classficiation when using the .score method (based on model)!\n",
    "# Remember for Linear Regression mdoel we get r2 value instead!\n",
    "\n",
    "print('Training Accuracy:',)\n",
    "print('Validation Accuracy:', )"
   ],
   "execution_count": null,
   "outputs": []
  },
  {
   "cell_type": "code",
   "metadata": {
    "id": "y64PC99k1INi"
   },
   "source": [
    "# from sklearn.metrics import accuracy_score\n",
    "# accuracy_score(y_val, model.predict(X_val))"
   ],
   "execution_count": null,
   "outputs": []
  },
  {
   "cell_type": "code",
   "source": [
    "# predict method returns class predictions (Survived = 1, Not Survived = 0)\n"
   ],
   "metadata": {
    "id": "mzQUOmE7no3Y"
   },
   "execution_count": null,
   "outputs": []
  },
  {
   "cell_type": "code",
   "source": [
    "# predict_proba method returns Probability estimates.# Default Classification Threshold is 0.5\n"
   ],
   "metadata": {
    "id": "-V7nYk6VqR0m"
   },
   "execution_count": null,
   "outputs": []
  },
  {
   "cell_type": "code",
   "source": [
    "## degree of certainity with which the model predicts the person survived (i.e 1) (for all our test samples)\n",
    "# JUST GRAB THE LAST COLUMN VALUES\n"
   ],
   "metadata": {
    "id": "QG_qb_UBqWsU"
   },
   "execution_count": null,
   "outputs": []
  }
 ]
}
