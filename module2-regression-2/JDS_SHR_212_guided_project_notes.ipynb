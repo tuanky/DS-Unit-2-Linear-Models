{
 "nbformat": 4,
 "nbformat_minor": 0,
 "metadata": {
  "colab": {
   "provenance": []
  },
  "kernelspec": {
   "name": "python3",
   "language": "python",
   "display_name": "Python 3 (ipykernel)"
  }
 },
 "cells": [
  {
   "cell_type": "markdown",
   "metadata": {
    "id": "RUhphDysw-6P"
   },
   "source": [
    "## BloomTech Data Science\n",
    "\n",
    "---\n"
   ]
  },
  {
   "cell_type": "markdown",
   "metadata": {
    "id": "c9XvBGFMguJ1"
   },
   "source": [
    "# Linear Regression II\n",
    "- Overfitting/Underfitting\n",
    "- Bias/Variance TradeOff\n",
    "- Train/Test Split\n",
    "- Multiple Linear Rregrerssion\n",
    "\n",
    "\n"
   ]
  },
  {
   "cell_type": "code",
   "metadata": {
    "id": "gUcWhX-0r9gl",
    "ExecuteTime": {
     "end_time": "2023-07-05T14:43:26.557178Z",
     "start_time": "2023-07-05T14:42:45.935254Z"
    }
   },
   "source": [
    "# Libraries for R^2 visualization\n",
    "from ipywidgets import interactive, IntSlider, FloatSlider\n",
    "from math import floor, ceil\n",
    "from sklearn.base import BaseEstimator, RegressorMixin\n",
    "\n",
    "# Libraries for model building\n",
    "from sklearn.linear_model import LinearRegression\n",
    "from sklearn.metrics import mean_absolute_error, mean_squared_error, r2_score\n",
    "import matplotlib.pyplot as plt\n",
    "import numpy as np\n",
    "import pandas as pd"
   ],
   "execution_count": 2,
   "outputs": []
  },
  {
   "cell_type": "code",
   "metadata": {
    "id": "E5WTvJFCWQjx"
   },
   "source": [
    "DATA_PATH = 'https://raw.githubusercontent.com/bloominstituteoftechnology/DS-Unit-2-Linear-Models/master/data/'"
   ],
   "execution_count": null,
   "outputs": []
  },
  {
   "cell_type": "markdown",
   "metadata": {
    "id": "TGelVAREWyrN"
   },
   "source": [
    "# I. Wrangle Data"
   ]
  },
  {
   "cell_type": "code",
   "metadata": {
    "id": "c9-YPgZNctQh"
   },
   "source": [
    "def wrangle(filepath):\n",
    "  df=pd.read_csv(filepath)\n",
    "\n",
    "  # col_names =['year','incumbent','challenger','income','fatalities','incumbent_vote_share']\n",
    "  # df = pd.read_csv(filepath,\n",
    "  #                  names=col_names)\n",
    "\n",
    "  # Drop High Cardinality Categorical Columns (HCCs)\n",
    "  # df.drop(columns=['incumbent', 'challenger'], inplace=True)\n",
    "\n",
    "  # cols_to_drop=[]\n",
    "  # threshold=10\n",
    "  # for col in df:\n",
    "  #   if df[col].dtype == 'object':\n",
    "  #     if df[col].nunique() > threshold:\n",
    "  #       cols_to_drop.append(col)\n",
    "\n",
    "  # df.drop(columns=cols_to_drop, inplace=True)\n",
    "\n",
    "  return df\n",
    "\n",
    "df = wrangle(DATA_PATH + 'elections/bread_peace_voting.csv')"
   ],
   "execution_count": null,
   "outputs": []
  },
  {
   "cell_type": "code",
   "source": [
    "df.head()"
   ],
   "metadata": {
    "colab": {
     "base_uri": "https://localhost:8080/",
     "height": 285
    },
    "id": "bA-ssT4Db2ix",
    "outputId": "75cec4e5-c224-4e02-99a2-917036c06b65"
   },
   "execution_count": null,
   "outputs": [
    {
     "output_type": "execute_result",
     "data": {
      "text/plain": [
       "   Year Incumbent Party Candidate Other Candidate  \\\n",
       "0  1952                 Stevenson      Eisenhower   \n",
       "1  1956                Eisenhower       Stevenson   \n",
       "2  1960                     Nixon         Kennedy   \n",
       "3  1964                   Johnson       Goldwater   \n",
       "4  1968                  Humphrey           Nixon   \n",
       "\n",
       "   Average Recent Growth in Personal Incomes  \\\n",
       "0                                       2.40   \n",
       "1                                       2.89   \n",
       "2                                       0.85   \n",
       "3                                       4.21   \n",
       "4                                       3.02   \n",
       "\n",
       "   US Military Fatalities per Million  Incumbent Party Vote Share  \n",
       "0                                 190                       44.60  \n",
       "1                                   0                       57.76  \n",
       "2                                   0                       49.91  \n",
       "3                                   1                       61.34  \n",
       "4                                 146                       49.60  "
      ],
      "text/html": [
       "\n",
       "  <div id=\"df-e0d94694-d5ba-403d-854e-abdcd4730abf\">\n",
       "    <div class=\"colab-df-container\">\n",
       "      <div>\n",
       "<style scoped>\n",
       "    .dataframe tbody tr th:only-of-type {\n",
       "        vertical-align: middle;\n",
       "    }\n",
       "\n",
       "    .dataframe tbody tr th {\n",
       "        vertical-align: top;\n",
       "    }\n",
       "\n",
       "    .dataframe thead th {\n",
       "        text-align: right;\n",
       "    }\n",
       "</style>\n",
       "<table border=\"1\" class=\"dataframe\">\n",
       "  <thead>\n",
       "    <tr style=\"text-align: right;\">\n",
       "      <th></th>\n",
       "      <th>Year</th>\n",
       "      <th>Incumbent Party Candidate</th>\n",
       "      <th>Other Candidate</th>\n",
       "      <th>Average Recent Growth in Personal Incomes</th>\n",
       "      <th>US Military Fatalities per Million</th>\n",
       "      <th>Incumbent Party Vote Share</th>\n",
       "    </tr>\n",
       "  </thead>\n",
       "  <tbody>\n",
       "    <tr>\n",
       "      <th>0</th>\n",
       "      <td>1952</td>\n",
       "      <td>Stevenson</td>\n",
       "      <td>Eisenhower</td>\n",
       "      <td>2.40</td>\n",
       "      <td>190</td>\n",
       "      <td>44.60</td>\n",
       "    </tr>\n",
       "    <tr>\n",
       "      <th>1</th>\n",
       "      <td>1956</td>\n",
       "      <td>Eisenhower</td>\n",
       "      <td>Stevenson</td>\n",
       "      <td>2.89</td>\n",
       "      <td>0</td>\n",
       "      <td>57.76</td>\n",
       "    </tr>\n",
       "    <tr>\n",
       "      <th>2</th>\n",
       "      <td>1960</td>\n",
       "      <td>Nixon</td>\n",
       "      <td>Kennedy</td>\n",
       "      <td>0.85</td>\n",
       "      <td>0</td>\n",
       "      <td>49.91</td>\n",
       "    </tr>\n",
       "    <tr>\n",
       "      <th>3</th>\n",
       "      <td>1964</td>\n",
       "      <td>Johnson</td>\n",
       "      <td>Goldwater</td>\n",
       "      <td>4.21</td>\n",
       "      <td>1</td>\n",
       "      <td>61.34</td>\n",
       "    </tr>\n",
       "    <tr>\n",
       "      <th>4</th>\n",
       "      <td>1968</td>\n",
       "      <td>Humphrey</td>\n",
       "      <td>Nixon</td>\n",
       "      <td>3.02</td>\n",
       "      <td>146</td>\n",
       "      <td>49.60</td>\n",
       "    </tr>\n",
       "  </tbody>\n",
       "</table>\n",
       "</div>\n",
       "      <button class=\"colab-df-convert\" onclick=\"convertToInteractive('df-e0d94694-d5ba-403d-854e-abdcd4730abf')\"\n",
       "              title=\"Convert this dataframe to an interactive table.\"\n",
       "              style=\"display:none;\">\n",
       "        \n",
       "  <svg xmlns=\"http://www.w3.org/2000/svg\" height=\"24px\"viewBox=\"0 0 24 24\"\n",
       "       width=\"24px\">\n",
       "    <path d=\"M0 0h24v24H0V0z\" fill=\"none\"/>\n",
       "    <path d=\"M18.56 5.44l.94 2.06.94-2.06 2.06-.94-2.06-.94-.94-2.06-.94 2.06-2.06.94zm-11 1L8.5 8.5l.94-2.06 2.06-.94-2.06-.94L8.5 2.5l-.94 2.06-2.06.94zm10 10l.94 2.06.94-2.06 2.06-.94-2.06-.94-.94-2.06-.94 2.06-2.06.94z\"/><path d=\"M17.41 7.96l-1.37-1.37c-.4-.4-.92-.59-1.43-.59-.52 0-1.04.2-1.43.59L10.3 9.45l-7.72 7.72c-.78.78-.78 2.05 0 2.83L4 21.41c.39.39.9.59 1.41.59.51 0 1.02-.2 1.41-.59l7.78-7.78 2.81-2.81c.8-.78.8-2.07 0-2.86zM5.41 20L4 18.59l7.72-7.72 1.47 1.35L5.41 20z\"/>\n",
       "  </svg>\n",
       "      </button>\n",
       "      \n",
       "  <style>\n",
       "    .colab-df-container {\n",
       "      display:flex;\n",
       "      flex-wrap:wrap;\n",
       "      gap: 12px;\n",
       "    }\n",
       "\n",
       "    .colab-df-convert {\n",
       "      background-color: #E8F0FE;\n",
       "      border: none;\n",
       "      border-radius: 50%;\n",
       "      cursor: pointer;\n",
       "      display: none;\n",
       "      fill: #1967D2;\n",
       "      height: 32px;\n",
       "      padding: 0 0 0 0;\n",
       "      width: 32px;\n",
       "    }\n",
       "\n",
       "    .colab-df-convert:hover {\n",
       "      background-color: #E2EBFA;\n",
       "      box-shadow: 0px 1px 2px rgba(60, 64, 67, 0.3), 0px 1px 3px 1px rgba(60, 64, 67, 0.15);\n",
       "      fill: #174EA6;\n",
       "    }\n",
       "\n",
       "    [theme=dark] .colab-df-convert {\n",
       "      background-color: #3B4455;\n",
       "      fill: #D2E3FC;\n",
       "    }\n",
       "\n",
       "    [theme=dark] .colab-df-convert:hover {\n",
       "      background-color: #434B5C;\n",
       "      box-shadow: 0px 1px 3px 1px rgba(0, 0, 0, 0.15);\n",
       "      filter: drop-shadow(0px 1px 2px rgba(0, 0, 0, 0.3));\n",
       "      fill: #FFFFFF;\n",
       "    }\n",
       "  </style>\n",
       "\n",
       "      <script>\n",
       "        const buttonEl =\n",
       "          document.querySelector('#df-e0d94694-d5ba-403d-854e-abdcd4730abf button.colab-df-convert');\n",
       "        buttonEl.style.display =\n",
       "          google.colab.kernel.accessAllowed ? 'block' : 'none';\n",
       "\n",
       "        async function convertToInteractive(key) {\n",
       "          const element = document.querySelector('#df-e0d94694-d5ba-403d-854e-abdcd4730abf');\n",
       "          const dataTable =\n",
       "            await google.colab.kernel.invokeFunction('convertToInteractive',\n",
       "                                                     [key], {});\n",
       "          if (!dataTable) return;\n",
       "\n",
       "          const docLinkHtml = 'Like what you see? Visit the ' +\n",
       "            '<a target=\"_blank\" href=https://colab.research.google.com/notebooks/data_table.ipynb>data table notebook</a>'\n",
       "            + ' to learn more about interactive tables.';\n",
       "          element.innerHTML = '';\n",
       "          dataTable['output_type'] = 'display_data';\n",
       "          await google.colab.output.renderOutput(dataTable, element);\n",
       "          const docLink = document.createElement('div');\n",
       "          docLink.innerHTML = docLinkHtml;\n",
       "          element.appendChild(docLink);\n",
       "        }\n",
       "      </script>\n",
       "    </div>\n",
       "  </div>\n",
       "  "
      ]
     },
     "metadata": {},
     "execution_count": 6
    }
   ]
  },
  {
   "cell_type": "markdown",
   "metadata": {
    "id": "Dek_MCFyXLq7"
   },
   "source": [
    "# II. Split Data\n",
    "\n",
    "**First** we need to split our **target vector** from our **feature matrix**."
   ]
  },
  {
   "cell_type": "code",
   "source": [
    "# y = df['incumbent_vote_share']\n",
    "# X = df[['income', 'fatalities']]"
   ],
   "metadata": {
    "id": "53lXr38nN074"
   },
   "execution_count": null,
   "outputs": []
  },
  {
   "cell_type": "code",
   "metadata": {
    "id": "8m9W00DPo9Vp"
   },
   "source": [
    "# Define our feature X and target y\n",
    "target =\n",
    "y =\n",
    "X ="
   ],
   "execution_count": null,
   "outputs": []
  },
  {
   "cell_type": "markdown",
   "metadata": {
    "id": "DZkHRqALX2be"
   },
   "source": [
    "**Second** we need to split our dataset into **training** and **test** sets.\n",
    "\n",
    "Two strategies:\n",
    "\n",
    "- Random train-test split using [`train_test_split`](https://scikit-learn.org/stable/modules/generated/sklearn.model_selection.train_test_split.html). Generally we use 80% of the data for training, and 20% of the data for testing.\n",
    "- If you have **timeseries**, then you need to do a \"cutoff\" split."
   ]
  },
  {
   "cell_type": "code",
   "metadata": {
    "id": "RJqL21ur3sDm"
   },
   "source": [
    "# Random train-test-split"
   ],
   "execution_count": null,
   "outputs": []
  },
  {
   "cell_type": "code",
   "metadata": {
    "id": "arg7JoI0b4dA"
   },
   "source": [
    "# Time-Series train-test-split\n",
    "\n",
    "cutoff =\n",
    "mask = X.index < cutoff\n",
    "\n",
    "# X_train and y_train should be before the cutoff\n",
    "X_train =\n",
    "y_train =\n",
    "\n",
    "# X_test and y_test should be after the cutoff\n",
    "X_test =\n",
    "y_test =\n"
   ],
   "execution_count": null,
   "outputs": []
  },
  {
   "cell_type": "code",
   "metadata": {
    "id": "RisL86PNb7V4"
   },
   "source": [
    "# # plotting the data\n",
    "\n",
    "# plt.scatter(X['income'], y)\n",
    "# plt.scatter(X_train['income'],y_train,marker = 'x')\n",
    "# plt.xlabel('Recent Growth in personal incomes')\n",
    "# plt.ylabel('Incumbent Vote share');"
   ],
   "execution_count": null,
   "outputs": []
  },
  {
   "cell_type": "markdown",
   "metadata": {
    "id": "7iSEjfzTdJtS"
   },
   "source": [
    "# III. Establish Baseline"
   ]
  },
  {
   "cell_type": "code",
   "metadata": {
    "id": "VlB3cu_l3s1J"
   },
   "source": [
    "y_pred_baseline =\n",
    "baseline_mae =\n",
    "\n",
    "print('Mean Vote Share:',)\n",
    "print('Baseline MAE:',baseline_mae)"
   ],
   "execution_count": null,
   "outputs": []
  },
  {
   "cell_type": "markdown",
   "metadata": {
    "id": "PzZqgSfpd6Z9"
   },
   "source": [
    "# IV. Build Model"
   ]
  },
  {
   "cell_type": "code",
   "metadata": {
    "id": "YK9UgruML0sL"
   },
   "source": [
    "# Step 1: Import your predictor class\n",
    "# We did that above ☝️\n",
    "\n",
    "# Step 2: Instantiate your predictor\n",
    "\n",
    "\n",
    "# Step 3: Fit your model to the TRAINING DATA!\n"
   ],
   "execution_count": null,
   "outputs": []
  },
  {
   "cell_type": "markdown",
   "metadata": {
    "id": "kKS9OY-0eYyU"
   },
   "source": [
    "# V. Check Metrics\n",
    "\n",
    "## Mean Absolute Error\n",
    "\n",
    "The unit of measurement is the same as the unit of measurment for your target (in this case, vote share [%])."
   ]
  },
  {
   "cell_type": "markdown",
   "source": [
    "<img src=https://miro.medium.com/max/315/1*OVlFLnMwHDx08PHzqlBDag.gif />"
   ],
   "metadata": {
    "id": "zYJ-Xsj_76Kz"
   }
  },
  {
   "cell_type": "code",
   "metadata": {
    "id": "jjsNKDYY3wws"
   },
   "source": [
    "print('Training MAE:', )\n",
    "print('Test MAE:', )"
   ],
   "execution_count": null,
   "outputs": []
  },
  {
   "cell_type": "markdown",
   "metadata": {
    "id": "gbbgj--egYyJ"
   },
   "source": [
    "## Root Mean Squared Error\n",
    "\n",
    "The unit of measurement is the same as the unit of measurment for your target (in this case, vote share [%])."
   ]
  },
  {
   "cell_type": "markdown",
   "source": [
    "<img src= https://miro.medium.com/max/327/1*9hQVcasuwx5ddq_s3MFCyw.gif />"
   ],
   "metadata": {
    "id": "A5WMjC0r79hu"
   }
  },
  {
   "cell_type": "code",
   "metadata": {
    "id": "D8RUCk0u3x9L"
   },
   "source": [
    "print('Training RMSE:', )\n",
    "print('Test RMSE:', )"
   ],
   "execution_count": null,
   "outputs": []
  },
  {
   "cell_type": "markdown",
   "metadata": {
    "id": "JiG46uC-kQGW"
   },
   "source": [
    "## $R^2$ Score\n",
    "\n",
    "Usually ranges between 0 (bad) and 1 (good)."
   ]
  },
  {
   "cell_type": "markdown",
   "source": [
    "$r^2 = 1-\\frac{(model_{SS})}{(baseline_{SS})}$"
   ],
   "metadata": {
    "id": "rKV54xM6mw53"
   }
  },
  {
   "cell_type": "markdown",
   "source": [
    "<img src=https://miro.medium.com/max/287/1*H3D-sstHHXEPEtZuntFu7Q.png width=\"250\" />"
   ],
   "metadata": {
    "id": "NEcD5M9X7__l"
   }
  },
  {
   "cell_type": "code",
   "metadata": {
    "id": "yG91v3Xna8Gf"
   },
   "source": [
    "# Training RMSE\n",
    "print(\"R-Squared:\", )\n",
    "# Test RMSE\n",
    "print(\"R-Squared:\", )"
   ],
   "execution_count": null,
   "outputs": []
  },
  {
   "cell_type": "code",
   "metadata": {
    "id": "G6Du7n_wbDd3"
   },
   "source": [
    "# Training RMSE\n",
    "print(\"R-Squared:\", )\n",
    "# Test RMSE\n",
    "print(\"R-Squared:\", )"
   ],
   "execution_count": null,
   "outputs": []
  },
  {
   "cell_type": "code",
   "metadata": {
    "id": "23FV-p8bh61A"
   },
   "source": [
    "class BruteForceRegressor(BaseEstimator, RegressorMixin):\n",
    "    def __init__(self, m=0, b=0):\n",
    "        self.m = m\n",
    "        self.b = b\n",
    "        self.mean = 0\n",
    "\n",
    "    def fit(self, X, y):\n",
    "        self.mean = np.mean(y)\n",
    "        return self\n",
    "\n",
    "    def predict(self, X, return_mean=True):\n",
    "        if return_mean:\n",
    "            return [self.mean] * len(X)\n",
    "        else:\n",
    "            return X * self.m + self.b\n",
    "\n",
    "def plot(slope, intercept):\n",
    "    # Assign data to variables\n",
    "    x = df['income']\n",
    "    y = df['incumbent_vote_share']\n",
    "\n",
    "    # Create figure\n",
    "    fig, (ax1, ax2) = plt.subplots(1, 2, figsize=(20,6))\n",
    "\n",
    "    # Set ax limits\n",
    "    mar = 0.2\n",
    "    x_lim = floor(x.min() - x.min()*mar), ceil(x.max() + x.min()*mar)\n",
    "    y_lim = floor(y.min() - y.min()*mar), ceil(y.max() + y.min()*mar)\n",
    "\n",
    "    # Instantiate and train model\n",
    "    bfr = BruteForceRegressor(slope, intercept)\n",
    "    bfr.fit(x, y)\n",
    "\n",
    "    # ax1\n",
    "    ## Plot data\n",
    "    ax1.set_xlim(x_lim)\n",
    "    ax1.set_ylim(y_lim)\n",
    "    ax1.scatter(x, y)\n",
    "\n",
    "    ## Plot base model\n",
    "    ax1.axhline(bfr.mean, color='orange', label='baseline model')\n",
    "\n",
    "    ## Plot residual lines\n",
    "    y_base_pred = bfr.predict(x)\n",
    "    ss_base = mean_squared_error(y, y_base_pred) * len(y)\n",
    "    for x_i, y_i, yp_i in zip(x, y, y_base_pred):\n",
    "        ax1.plot([x_i, x_i], [y_i, yp_i],\n",
    "                 color='gray', linestyle='--', alpha=0.75)\n",
    "\n",
    "    ## Formatting\n",
    "    ax1.legend()\n",
    "    ax1.set_title(f'Sum of Squares: {np.round(ss_base, 2)}')\n",
    "    ax1.set_xlabel('Growth in Personal Incomes')\n",
    "    ax1.set_ylabel('Incumbent Party Vote Share [%]')\n",
    "\n",
    "    # ax2\n",
    "\n",
    "    ax2.set_xlim(x_lim)\n",
    "    ax2.set_ylim(y_lim)\n",
    "    ## Plot data\n",
    "    ax2.scatter(x, y)\n",
    "\n",
    "    ## Plot model\n",
    "    x_model = np.linspace(*ax2.get_xlim(), 10)\n",
    "    y_model = bfr.predict(x_model, return_mean=False)\n",
    "    ax2.plot(x_model, y_model, color='green', label='our model')\n",
    "    for x_coord, y_coord in zip(x, y):\n",
    "        ax2.plot([x_coord, x_coord], [y_coord, x_coord * slope + intercept],\n",
    "                 color='gray', linestyle='--', alpha=0.75)\n",
    "\n",
    "    ss_ours = mean_squared_error(y, bfr.predict(x, return_mean=False)) * len(y)\n",
    "\n",
    "    ## Formatting\n",
    "    ax2.legend()\n",
    "    ax2.set_title(f'Sum of Squares: {np.round(ss_ours, 2)}')\n",
    "    ax2.set_xlabel('Growth in Personal Incomes')\n",
    "    ax2.set_ylabel('Incumbent Party Vote Share [%]')\n",
    "\n",
    "y = df['incumbent_vote_share']\n",
    "slope_slider = FloatSlider(min=-5, max=5, step=0.5, value=0)\n",
    "intercept_slider = FloatSlider(min=int(y.min()), max=y.max(), step=2, value=y.mean())\n",
    "\n",
    "interactive(plot, slope=slope_slider, intercept=intercept_slider)"
   ],
   "execution_count": null,
   "outputs": []
  },
  {
   "cell_type": "code",
   "metadata": {
    "id": "96hWWlRcdtFb"
   },
   "source": [
    "# r2 = 1 - (model_SS_error)/ (baseline_SS_error)"
   ],
   "execution_count": null,
   "outputs": []
  },
  {
   "cell_type": "code",
   "source": [
    "# model better than baseline"
   ],
   "metadata": {
    "id": "n9bD-eqQsRga"
   },
   "execution_count": null,
   "outputs": []
  },
  {
   "cell_type": "code",
   "source": [
    "# model equal to baseline"
   ],
   "metadata": {
    "id": "XrZqHZ6esTBs"
   },
   "execution_count": null,
   "outputs": []
  },
  {
   "cell_type": "code",
   "source": [
    "# model worse than baseline"
   ],
   "metadata": {
    "id": "TxFtbgv7sULy"
   },
   "execution_count": null,
   "outputs": []
  },
  {
   "cell_type": "markdown",
   "metadata": {
    "id": "6eHzIsbYqcgo"
   },
   "source": [
    "# VI. Communicate Results\n",
    "\n",
    "**Challenge:** How can we find the coefficients and intercept for our `model`?"
   ]
  },
  {
   "cell_type": "code",
   "metadata": {
    "id": "U9reRJKE7T-6"
   },
   "source": [
    "print('The coefficient for income is:',)\n",
    "print('The coefficient for fatalities is:',)"
   ],
   "execution_count": null,
   "outputs": []
  },
  {
   "cell_type": "code",
   "metadata": {
    "id": "2MvyQ2JOapLW"
   },
   "source": [
    "print('The interecept of our model is:',)\n"
   ],
   "execution_count": null,
   "outputs": []
  }
 ]
}
