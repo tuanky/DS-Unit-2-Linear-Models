{
 "nbformat": 4,
 "nbformat_minor": 0,
 "metadata": {
  "colab": {
   "provenance": []
  },
  "kernelspec": {
   "name": "python3",
   "language": "python",
   "display_name": "Python 3 (ipykernel)"
  }
 },
 "cells": [
  {
   "cell_type": "markdown",
   "metadata": {
    "id": "T5CVLq4CiD_J"
   },
   "source": [
    "# BloomTech Data Science"
   ]
  },
  {
   "cell_type": "code",
   "metadata": {
    "id": "XdKtS6Gi5jul",
    "ExecuteTime": {
     "end_time": "2023-10-06T20:37:56.542838Z",
     "start_time": "2023-10-06T20:37:19.989591Z"
    }
   },
   "source": [
    "# Importing the necessary libraries\n",
    "\n",
    "import pandas as pd\n",
    "import matplotlib.pyplot as plt\n",
    "import numpy as np\n",
    "from sklearn.metrics import mean_absolute_error"
   ],
   "execution_count": 1,
   "outputs": []
  },
  {
   "cell_type": "code",
   "metadata": {
    "id": "-sZguZ2xWoVG",
    "ExecuteTime": {
     "end_time": "2023-10-06T20:39:50.941928Z",
     "start_time": "2023-10-06T20:39:50.930193Z"
    }
   },
   "source": [
    "DATA_PATH = 'https://raw.githubusercontent.com/bloominstituteoftechnology/DS-Unit-2-Linear-Models/master/data/condos/tribeca.csv'\n"
   ],
   "execution_count": 4,
   "outputs": []
  },
  {
   "cell_type": "markdown",
   "metadata": {
    "id": "2EVx8r5HLa6f"
   },
   "source": [
    "# I. Wrangle Data"
   ]
  },
  {
   "cell_type": "code",
   "metadata": {
    "id": "syxaPzCWqfTY",
    "ExecuteTime": {
     "end_time": "2023-10-06T20:39:56.305886Z",
     "start_time": "2023-10-06T20:39:55.182152Z"
    }
   },
   "source": [
    "\n",
    "df = pd.read_csv(DATA_PATH)"
   ],
   "execution_count": 5,
   "outputs": []
  },
  {
   "cell_type": "code",
   "source": [
    "df"
   ],
   "metadata": {
    "id": "QuJLwTdkNxQu",
    "ExecuteTime": {
     "end_time": "2023-10-06T20:40:00.358041Z",
     "start_time": "2023-10-06T20:40:00.350638Z"
    }
   },
   "execution_count": 6,
   "outputs": [
    {
     "data": {
      "text/plain": "   NEIGHBORHOOD          BUILDING_CLASS_CATEGORY                     ADDRESS  \\\n0       TRIBECA  13 CONDOS - ELEVATOR APARTMENTS       181 HUDSON STREET, 6D   \n1       TRIBECA  13 CONDOS - ELEVATOR APARTMENTS  10 LITTLE WEST STREET, 19A   \n2       TRIBECA  13 CONDOS - ELEVATOR APARTMENTS   30 LITTLE WEST STREET, 7G   \n3       TRIBECA  13 CONDOS - ELEVATOR APARTMENTS         2 RIVER TERRACE, 4C   \n4       TRIBECA  13 CONDOS - ELEVATOR APARTMENTS       380 RECTOR PLACE, 10A   \n..          ...                              ...                         ...   \n85      TRIBECA  13 CONDOS - ELEVATOR APARTMENTS    443 GREENWICH STREET, 1F   \n86      TRIBECA  13 CONDOS - ELEVATOR APARTMENTS  70 LITTLE WEST STREET, 11K   \n87      TRIBECA  13 CONDOS - ELEVATOR APARTMENTS      2 SOUTH END AVENUE, 5G   \n88      TRIBECA  13 CONDOS - ELEVATOR APARTMENTS      2 SOUTH END AVENUE, 8B   \n89      TRIBECA  13 CONDOS - ELEVATOR APARTMENTS        311 GREENWICH ST, 8B   \n\n   APARTMENT_NUMBER  ZIP_CODE  GROSS_SQUARE_FEET  YEAR_BUILT  SALE_PRICE  \\\n0                6D   10013.0             1840.0      1909.0     2800000   \n1               19A   10004.0             1759.0         0.0     2650000   \n2                7G   10004.0             1190.0      2005.0     1005000   \n3                4C       0.0             1088.0      2006.0     1678000   \n4               10A   10280.0              873.0         0.0     1380000   \n..              ...       ...                ...         ...         ...   \n85               1F   10013.0             2429.0      1905.0     5761259   \n86              11K   10004.0             1601.0      2006.0     2600000   \n87               5G   10280.0              634.0      1990.0      605000   \n88               8B   10280.0              939.0      1990.0      960000   \n89               8B   10013.0              695.0         0.0      975000   \n\n     SALE_DATE  \n0   2019-01-03  \n1   2019-01-07  \n2   2019-01-09  \n3   2019-01-10  \n4   2019-01-11  \n..         ...  \n85  2019-04-24  \n86  2019-04-29  \n87  2019-04-29  \n88  2019-04-30  \n89  2019-04-30  \n\n[90 rows x 9 columns]",
      "text/html": "<div>\n<style scoped>\n    .dataframe tbody tr th:only-of-type {\n        vertical-align: middle;\n    }\n\n    .dataframe tbody tr th {\n        vertical-align: top;\n    }\n\n    .dataframe thead th {\n        text-align: right;\n    }\n</style>\n<table border=\"1\" class=\"dataframe\">\n  <thead>\n    <tr style=\"text-align: right;\">\n      <th></th>\n      <th>NEIGHBORHOOD</th>\n      <th>BUILDING_CLASS_CATEGORY</th>\n      <th>ADDRESS</th>\n      <th>APARTMENT_NUMBER</th>\n      <th>ZIP_CODE</th>\n      <th>GROSS_SQUARE_FEET</th>\n      <th>YEAR_BUILT</th>\n      <th>SALE_PRICE</th>\n      <th>SALE_DATE</th>\n    </tr>\n  </thead>\n  <tbody>\n    <tr>\n      <th>0</th>\n      <td>TRIBECA</td>\n      <td>13 CONDOS - ELEVATOR APARTMENTS</td>\n      <td>181 HUDSON STREET, 6D</td>\n      <td>6D</td>\n      <td>10013.0</td>\n      <td>1840.0</td>\n      <td>1909.0</td>\n      <td>2800000</td>\n      <td>2019-01-03</td>\n    </tr>\n    <tr>\n      <th>1</th>\n      <td>TRIBECA</td>\n      <td>13 CONDOS - ELEVATOR APARTMENTS</td>\n      <td>10 LITTLE WEST STREET, 19A</td>\n      <td>19A</td>\n      <td>10004.0</td>\n      <td>1759.0</td>\n      <td>0.0</td>\n      <td>2650000</td>\n      <td>2019-01-07</td>\n    </tr>\n    <tr>\n      <th>2</th>\n      <td>TRIBECA</td>\n      <td>13 CONDOS - ELEVATOR APARTMENTS</td>\n      <td>30 LITTLE WEST STREET, 7G</td>\n      <td>7G</td>\n      <td>10004.0</td>\n      <td>1190.0</td>\n      <td>2005.0</td>\n      <td>1005000</td>\n      <td>2019-01-09</td>\n    </tr>\n    <tr>\n      <th>3</th>\n      <td>TRIBECA</td>\n      <td>13 CONDOS - ELEVATOR APARTMENTS</td>\n      <td>2 RIVER TERRACE, 4C</td>\n      <td>4C</td>\n      <td>0.0</td>\n      <td>1088.0</td>\n      <td>2006.0</td>\n      <td>1678000</td>\n      <td>2019-01-10</td>\n    </tr>\n    <tr>\n      <th>4</th>\n      <td>TRIBECA</td>\n      <td>13 CONDOS - ELEVATOR APARTMENTS</td>\n      <td>380 RECTOR PLACE, 10A</td>\n      <td>10A</td>\n      <td>10280.0</td>\n      <td>873.0</td>\n      <td>0.0</td>\n      <td>1380000</td>\n      <td>2019-01-11</td>\n    </tr>\n    <tr>\n      <th>...</th>\n      <td>...</td>\n      <td>...</td>\n      <td>...</td>\n      <td>...</td>\n      <td>...</td>\n      <td>...</td>\n      <td>...</td>\n      <td>...</td>\n      <td>...</td>\n    </tr>\n    <tr>\n      <th>85</th>\n      <td>TRIBECA</td>\n      <td>13 CONDOS - ELEVATOR APARTMENTS</td>\n      <td>443 GREENWICH STREET, 1F</td>\n      <td>1F</td>\n      <td>10013.0</td>\n      <td>2429.0</td>\n      <td>1905.0</td>\n      <td>5761259</td>\n      <td>2019-04-24</td>\n    </tr>\n    <tr>\n      <th>86</th>\n      <td>TRIBECA</td>\n      <td>13 CONDOS - ELEVATOR APARTMENTS</td>\n      <td>70 LITTLE WEST STREET, 11K</td>\n      <td>11K</td>\n      <td>10004.0</td>\n      <td>1601.0</td>\n      <td>2006.0</td>\n      <td>2600000</td>\n      <td>2019-04-29</td>\n    </tr>\n    <tr>\n      <th>87</th>\n      <td>TRIBECA</td>\n      <td>13 CONDOS - ELEVATOR APARTMENTS</td>\n      <td>2 SOUTH END AVENUE, 5G</td>\n      <td>5G</td>\n      <td>10280.0</td>\n      <td>634.0</td>\n      <td>1990.0</td>\n      <td>605000</td>\n      <td>2019-04-29</td>\n    </tr>\n    <tr>\n      <th>88</th>\n      <td>TRIBECA</td>\n      <td>13 CONDOS - ELEVATOR APARTMENTS</td>\n      <td>2 SOUTH END AVENUE, 8B</td>\n      <td>8B</td>\n      <td>10280.0</td>\n      <td>939.0</td>\n      <td>1990.0</td>\n      <td>960000</td>\n      <td>2019-04-30</td>\n    </tr>\n    <tr>\n      <th>89</th>\n      <td>TRIBECA</td>\n      <td>13 CONDOS - ELEVATOR APARTMENTS</td>\n      <td>311 GREENWICH ST, 8B</td>\n      <td>8B</td>\n      <td>10013.0</td>\n      <td>695.0</td>\n      <td>0.0</td>\n      <td>975000</td>\n      <td>2019-04-30</td>\n    </tr>\n  </tbody>\n</table>\n<p>90 rows × 9 columns</p>\n</div>"
     },
     "execution_count": 6,
     "metadata": {},
     "output_type": "execute_result"
    }
   ]
  },
  {
   "cell_type": "code",
   "source": [
    "# Wrangle function to Clean up data\n",
    "\n",
    "def wrangle(filepath):\n",
    "   # Load the csv file, convert the date column to a datetime object and set it as index.\n",
    "  df = pd.read_csv(filepath,\n",
    "                   parse_dates=['SALE_DATE'],\n",
    "                   index_col=['SALE_DATE'],\n",
    "                   na_values=[0.0])\n",
    "\n",
    "  #drop constant columns\n",
    "\n",
    "\n",
    "  #Drop high-cardinality categorical columns (HCCC's)\n",
    "\n",
    "\n",
    "  return df\n",
    "\n",
    "df = wrangle(DATA_PATH + 'condos/tribeca.csv')\n"
   ],
   "metadata": {
    "id": "rbRGwAeJNxB9"
   },
   "execution_count": null,
   "outputs": []
  },
  {
   "cell_type": "markdown",
   "metadata": {
    "id": "GgRcyfQMXhzJ"
   },
   "source": [
    "# II. Split Data\n",
    "\n",
    "Split our dataset into a **feature matrix `X`** and a **target vector `y`**."
   ]
  },
  {
   "cell_type": "code",
   "metadata": {
    "id": "wTYqSJ8chRGa"
   },
   "source": [
    "# Split into feature matrix X and target vector y"
   ],
   "execution_count": null,
   "outputs": []
  },
  {
   "cell_type": "markdown",
   "metadata": {
    "id": "CuwsiXRlYsjG"
   },
   "source": [
    "# III. Establish Baseline\n",
    "\n",
    "If you had a *naïve model* that could only predict one value, how well would you model perform?"
   ]
  },
  {
   "cell_type": "code",
   "source": [
    "print('Mean sale price:', )"
   ],
   "metadata": {
    "id": "EphjlXB5fuVA"
   },
   "execution_count": null,
   "outputs": []
  },
  {
   "cell_type": "code",
   "metadata": {
    "id": "1Ek2mN04hTmT"
   },
   "source": [
    "print('BASELINE MAE',)"
   ],
   "execution_count": null,
   "outputs": []
  },
  {
   "cell_type": "code",
   "metadata": {
    "id": "NiWjkzmiBU3I"
   },
   "source": [
    "# # Scatter plot to visualize the baseline\n",
    "# plt.figure(figsize=(15, 10))\n",
    "# plt.scatter(X, y)\n",
    "# plt.plot(X, y_pred, label='Baseline', color='grey')\n",
    "# plt.xlabel('Gross Sq Feet')\n",
    "# plt.ylabel('Sale Price')\n",
    "# plt.legend();"
   ],
   "execution_count": null,
   "outputs": []
  },
  {
   "cell_type": "markdown",
   "metadata": {
    "id": "3bFjzSkUdl21"
   },
   "source": [
    "# IV. Build Model"
   ]
  },
  {
   "cell_type": "code",
   "metadata": {
    "id": "teYsy_7fhWiG"
   },
   "source": [
    "# step 1: import predictor class\n",
    "\n",
    "\n",
    "#step 2:Instantiate my predictor\n",
    "\n",
    "\n",
    "# Step 3: fit my model\n",
    "\n",
    "\n",
    "# step 4: make predictions\n"
   ],
   "execution_count": null,
   "outputs": []
  },
  {
   "cell_type": "markdown",
   "metadata": {
    "id": "Lo3CypnUfIwc"
   },
   "source": [
    "# V. Check Metrics"
   ]
  },
  {
   "cell_type": "code",
   "metadata": {
    "id": "l1WsFoaUJ_Vx"
   },
   "source": [
    "#MAE of LinearRegression model\n",
    "print('Linear Regression MAE', )"
   ],
   "execution_count": null,
   "outputs": []
  },
  {
   "cell_type": "markdown",
   "metadata": {
    "id": "jGYUL1mufdS-"
   },
   "source": [
    "# VI. Communicate Results\n",
    "\n",
    "Plot model"
   ]
  },
  {
   "cell_type": "code",
   "metadata": {
    "id": "y6RUbvFdB3jl"
   },
   "source": [
    "# Plotting baseline and our model to interpret the differences between the two methods.\n",
    "plt.figure(figsize=(15, 10))\n",
    "plt.scatter(X, y)\n",
    "plt.plot(X, y_pred, label='Baseline', color='grey')\n",
    "plt.plot(X, y_pred_lr, label='Linear Regression', color='orange')\n",
    "plt.xlabel('Gross Sq Feet')\n",
    "plt.ylabel('Sale Price')\n",
    "plt.legend();"
   ],
   "execution_count": null,
   "outputs": []
  },
  {
   "cell_type": "markdown",
   "metadata": {
    "id": "qsDBGc49K7Uh"
   },
   "source": [
    "What are our beta coefficients?"
   ]
  },
  {
   "cell_type": "code",
   "metadata": {
    "id": "rgoaqGY_KjnH"
   },
   "source": [],
   "execution_count": null,
   "outputs": []
  },
  {
   "cell_type": "code",
   "metadata": {
    "id": "6a-GOP4BLMOB"
   },
   "source": [],
   "execution_count": null,
   "outputs": []
  },
  {
   "cell_type": "code",
   "source": [
    "# final equation"
   ],
   "metadata": {
    "id": "UwIheciDf8Kx"
   },
   "execution_count": null,
   "outputs": []
  },
  {
   "cell_type": "code",
   "source": [
    "print(f'SALE_PRICE={} + {}*GROSS_SQUARE_FEET')\n"
   ],
   "metadata": {
    "id": "qGHw5XYpf8D7"
   },
   "execution_count": null,
   "outputs": []
  }
 ]
}
